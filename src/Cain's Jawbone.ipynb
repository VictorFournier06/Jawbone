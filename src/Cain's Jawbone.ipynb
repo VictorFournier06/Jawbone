{
 "cells": [
  {
   "cell_type": "markdown",
   "metadata": {},
   "source": [
    "# Imports"
   ]
  },
  {
   "cell_type": "code",
   "execution_count": 139,
   "metadata": {},
   "outputs": [
    {
     "name": "stdout",
     "output_type": "stream",
     "text": [
      "The autoreload extension is already loaded. To reload it, use:\n",
      "  %reload_ext autoreload\n"
     ]
    }
   ],
   "source": [
    "%load_ext autoreload\n",
    "%autoreload 2"
   ]
  },
  {
   "cell_type": "code",
   "execution_count": 140,
   "metadata": {},
   "outputs": [
    {
     "name": "stdout",
     "output_type": "stream",
     "text": [
      "Max token size: 384\n"
     ]
    }
   ],
   "source": [
    "# global imports (1 sec - 30 secs)\n",
    "import random\n",
    "import matplotlib.pyplot as plt\n",
    "import numpy as np\n",
    "import torch\n",
    "from accelerate import Accelerator\n",
    "from sentence_transformers import SentenceTransformer\n",
    "accelerator = Accelerator()\n",
    "model = accelerator.prepare(SentenceTransformer(\"all-mpnet-base-v2\", device=\"cuda\")) #all-MiniLM-L6-v2\n",
    "from sklearn.metrics import accuracy_score, f1_score, roc_auc_score\n",
    "# Get the max token size\n",
    "max_token_size = model.max_seq_length\n",
    "print(f\"Max token size: {max_token_size}\")"
   ]
  },
  {
   "cell_type": "code",
   "execution_count": 141,
   "metadata": {},
   "outputs": [],
   "source": [
    "# local imports (1 sec - 2 secs)\n",
    "import loader\n",
    "import distances\n",
    "import algos\n",
    "import data_processing as dp\n",
    "import classifier"
   ]
  },
  {
   "cell_type": "code",
   "execution_count": 142,
   "metadata": {},
   "outputs": [
    {
     "data": {
      "text/plain": [
       "True"
      ]
     },
     "execution_count": 142,
     "metadata": {},
     "output_type": "execute_result"
    }
   ],
   "source": [
    "torch.cuda.is_available()"
   ]
  },
  {
   "cell_type": "code",
   "execution_count": 143,
   "metadata": {},
   "outputs": [],
   "source": [
    "#clear all memory of the GPU\n",
    "torch.cuda.empty_cache()\n",
    "device = torch.device(\"cuda\" if torch.cuda.is_available() else \"cpu\")\n",
    "torch.cuda.reset_peak_memory_stats(device)"
   ]
  },
  {
   "cell_type": "markdown",
   "metadata": {},
   "source": [
    "# Database\n",
    "\n",
    "The miscellaneous database consists of 20 copyright-free book from children's literature obtained from [The Project Gutenberg](https://www.gutenberg.org/ebooks/bookshelf/20).  \n",
    "The Tom Swift database consists of 27 books of the series Tom Swift by Victor Appleton obtained from [The Project Gutenberg](https://www.gutenberg.org/ebooks/search/?query=victor+appleton&submit_search=Go%21)."
   ]
  },
  {
   "cell_type": "code",
   "execution_count": 144,
   "metadata": {},
   "outputs": [],
   "source": [
    "#Choosing the database (\"Miscellaneous\", \"Tom Swift\") and the number of books to load (1 min)\n",
    "nb_books = 25\n",
    "mode = \"chunks\"\n",
    "all_sentences = loader.load_books(\"Tom Swift\", mode, max_token_size, tokenizer=model.tokenizer)\n",
    "#Randomly reorder the books\n",
    "random.shuffle(all_sentences)\n",
    "sentences = all_sentences[:nb_books]"
   ]
  },
  {
   "cell_type": "code",
   "execution_count": 145,
   "metadata": {},
   "outputs": [
    {
     "name": "stdout",
     "output_type": "stream",
     "text": [
      "time. \"But there may be more,\" he warned the young inventor. \"You are not done with them yet.\" The Mars was floated out of her hangar, and made ready for an ascent. Tom, Ned, Lieutenant Marbury, Mr. Damon, and several workmen were to be the first passengers. Tom was busy going over the various parts to see that nothing had been forgotten. \"Well, I guess we're ready,\" he finally announced. \"All aboard!\" \"Bless my insurance policy!\" exclaimed Mr. Damon. \"Now that the time comes I almost wish I wasn't going.\" \"Nonsense!\" exclaimed Tom. \"You're not going to back out at the last minute. All aboard! Cast off the ropes!\" he cried to the assistants. A moment later the Mars, the biggest airship Tom Swift had ever constructed, arose from the earth like some great bird, and soared aloft. CHAPTER XV IN DANGER \"Well, Tom, we're moving!\" cried Ned Newton, clapping his chum on the back, as he stood near him in the pilot-house. \"We're going up, old sport!\" \"Of course we are,\" replied Tom. \"You didn't think it wouldn't go up, did you?\" \"Well, I wasn't quite sure,\" Ned confessed. \"You know you were so worried about--\" \"Not about the ship sailing,\" interrupted Tom. \"It was only the effect the firing of the guns might have. But I think we have that taken care of.\" \"Bless my pin cushion!\" cried Mr. Damon, as he looked over the rail at the earth below. \"We're moving fast, Tom.\" \"Yes, we can make a quicker ascent in this than in most aeroplanes,\" Tom \n"
     ]
    }
   ],
   "source": [
    "#choose a random book and print 1 chunk\n",
    "r = random.randrange(0, len(sentences)) #not included\n",
    "r2 = random.randrange(0, len(sentences[r]))\n",
    "for i in range(r2, r2+1):\n",
    "    print(sentences[r][i])"
   ]
  },
  {
   "cell_type": "markdown",
   "metadata": {},
   "source": [
    "# Embeddings\n",
    "Here we use Sentence-BERT to embed the sentences in the database."
   ]
  },
  {
   "cell_type": "code",
   "execution_count": 146,
   "metadata": {},
   "outputs": [],
   "source": [
    "#embeddings of the sentences (1 min - 2 min)\n",
    "sentence_embedding = [model.encode(sentences[r]) for r in range(len(sentences))] #cannot stack because different number of pages"
   ]
  },
  {
   "cell_type": "markdown",
   "metadata": {},
   "source": [
    "# Minimizing the distances\n",
    "Here we want to find an oprtimal order by maximizing the semantic proximity between neighboring sentences. We have $n!$ possible orderings, so we can't use brute force. Our problem is similar to the traveling salesman problem, which is NP-hard, so we can't solve it optimally, therefore we design some algorithms to try to find a local minimum instead."
   ]
  },
  {
   "cell_type": "code",
   "execution_count": 147,
   "metadata": {},
   "outputs": [
    {
     "name": "stdout",
     "output_type": "stream",
     "text": [
      "default order            <lambda>            avg_consecutive_dist     0.2802770733833313\n",
      "default order            <lambda>            kendall_tau              1.0\n",
      "default order            <lambda>            PMR                      1.0\n",
      "\n",
      "random_order             <lambda>            avg_consecutive_dist     0.41911566257476807\n",
      "random_order             <lambda>            kendall_tau              -0.03838383838383841\n",
      "random_order             <lambda>            PMR                      0.0\n",
      "\n",
      "default order            insertion_sort      avg_consecutive_dist     0.3924892544746399\n",
      "default order            insertion_sort      kendall_tau              0.41333333333333333\n",
      "default order            insertion_sort      PMR                      0.07\n",
      "\n",
      "random_order             insertion_sort      avg_consecutive_dist     0.40506401658058167\n",
      "random_order             insertion_sort      kendall_tau              0.3688888888888888\n",
      "random_order             insertion_sort      PMR                      0.03\n",
      "\n",
      "default order            greedy_sort         avg_consecutive_dist     0.29521170258522034\n",
      "default order            greedy_sort         kendall_tau              0.9818181818181818\n",
      "default order            greedy_sort         PMR                      0.18\n",
      "\n",
      "random_order             greedy_sort         avg_consecutive_dist     0.38657474517822266\n",
      "random_order             greedy_sort         kendall_tau              -0.019797979797979703\n",
      "random_order             greedy_sort         PMR                      0.0\n",
      "\n"
     ]
    }
   ],
   "source": [
    "#run the local minimum algorithms on a subset of the sentences of the book and compare the permutation distances (1 sec - 4 secs)\n",
    "pairwise_dist = distances.pairwise_dist(sentence_embedding)\n",
    "distances2 = pairwise_dist[0][:100,:100]\n",
    "\n",
    "default_order, random_order = list(range(len(distances2))), np.random.permutation(len(distances2))\n",
    "\n",
    "for algo in [(lambda x, y: y), algos.insertion_sort, algos.greedy_sort]:\n",
    "    for order, order_name in [(default_order, \"default order\"), (random_order, \"random_order\")]:\n",
    "        for dist, dist_name in [(lambda o : distances.avg_consecutive_dist(o, distances2), \"avg_consecutive_dist\"), (lambda o : distances.kendall_tau(o, default_order), \"kendall_tau\"), (lambda o : distances.PMR(o, default_order), \"PMR\")]:\n",
    "            ordered = algo(distances2, order)\n",
    "            d = dist(ordered)\n",
    "            print(f\"{order_name:25}{algo.__name__:20}{dist_name:25}{d}\")\n",
    "        print()"
   ]
  },
  {
   "cell_type": "markdown",
   "metadata": {},
   "source": [
    "The insertion sort improves significantly the kendall tau compared to a random permutation."
   ]
  },
  {
   "cell_type": "markdown",
   "metadata": {},
   "source": [
    "# Classifier: \n",
    "### Heuristics\n",
    "The two metrics discussed were the following: distance betweeen pages or probability that a page is before another.\n",
    "\n",
    "For the distance between pages, we don't have the ground truth so to train a model it's easier to start with a classifier that takes in two pages and outputs a probability that the first page is before the second.\n",
    "\n",
    "![Classifier Architecture](../img/Classifier_architecture.png)"
   ]
  },
  {
   "cell_type": "markdown",
   "metadata": {},
   "source": [
    "### Training and Testing Datasets"
   ]
  },
  {
   "cell_type": "code",
   "execution_count": 148,
   "metadata": {},
   "outputs": [
    {
     "name": "stdout",
     "output_type": "stream",
     "text": [
      "(152, 768)\n",
      "torch.Size([121, 768]) torch.Size([16, 768]) torch.Size([15, 768])\n"
     ]
    }
   ],
   "source": [
    "#split the sentences into discard, training, validation and testing sets keeping the order\n",
    "print(sentence_embedding[0].shape)\n",
    "sentences_train, sentences_val, sentences_test = dp.split_sentences(sentence_embedding, 1)\n",
    "print(sentences_train[0].shape, sentences_val[0].shape, sentences_test[0].shape)"
   ]
  },
  {
   "cell_type": "code",
   "execution_count": 149,
   "metadata": {},
   "outputs": [
    {
     "name": "stdout",
     "output_type": "stream",
     "text": [
      "torch.Size([367130, 1536]) torch.Size([6123, 1536]) torch.Size([5724, 1536])\n"
     ]
    }
   ],
   "source": [
    "#create the database of the pairs of a subset of sentences (30 sec - 1 min for 30 books and 100%)\n",
    "X_train, y_train = dp.create_database(sentences_train)\n",
    "X_val, y_val = dp.create_database(sentences_val)\n",
    "X_test, y_test = dp.create_database(sentences_test)\n",
    "print(X_train.shape, X_val.shape, X_test.shape)     #size n x (n-1)"
   ]
  },
  {
   "cell_type": "markdown",
   "metadata": {},
   "source": [
    "### PyTorch Classifier"
   ]
  },
  {
   "cell_type": "markdown",
   "metadata": {},
   "source": [
    "#### Hyperparameters and validation"
   ]
  },
  {
   "cell_type": "code",
   "execution_count": 150,
   "metadata": {},
   "outputs": [],
   "source": [
    "#hyperparameters\n",
    "input_dim = X_train[0].shape[0]\n",
    "output_dim = 1\n",
    "hidden_dim = 128\n",
    "learning_rate_list = [0.1, 0.01, 0.001, 0.0001]\n",
    "epochs_list = [10, 100, 1000]\n",
    "L2_alphas = [0, 0.01, 0.001, 0.0001]"
   ]
  },
  {
   "cell_type": "code",
   "execution_count": 151,
   "metadata": {},
   "outputs": [],
   "source": [
    "#Create the classifier\n",
    "network = classifier.Classifier(input_dim, hidden_dim, output_dim, accelerator)"
   ]
  },
  {
   "cell_type": "raw",
   "metadata": {},
   "source": [
    "#finetune the hyperparameters (10 minutes)\n",
    "best_loss, best_state, best_hyperparams = network.finetuning(learning_rate_list, epochs_list, L2_alphas, X_train, y_train, X_val, y_val, True)\n",
    "network.load_state_dict(best_state)\n",
    "print(\"best loss:\", best_loss)\n",
    "print(\"best learning rate:\", best_hyperparams[0])\n",
    "print(\"best epochs:\", best_hyperparams[1])\n",
    "print(\"best L2 alpha:\", best_hyperparams[2])"
   ]
  },
  {
   "cell_type": "markdown",
   "metadata": {},
   "source": [
    "The best values for the hyperparameters were found to be:\n",
    "- Number of epochs: 10 000\n",
    "- Learning Rate: 0.001\n",
    "- L2 Regularization: 0"
   ]
  },
  {
   "cell_type": "markdown",
   "metadata": {},
   "source": [
    "#### Training"
   ]
  },
  {
   "cell_type": "code",
   "execution_count": 152,
   "metadata": {},
   "outputs": [],
   "source": [
    "#set the best hyperparameters\n",
    "learning_rate = 0.001\n",
    "epochs = 1000\n",
    "L2_alpha = 0"
   ]
  },
  {
   "cell_type": "code",
   "execution_count": 153,
   "metadata": {},
   "outputs": [],
   "source": [
    "#Create the classifier\n",
    "network = classifier.Classifier(input_dim, hidden_dim, output_dim, accelerator)"
   ]
  },
  {
   "cell_type": "code",
   "execution_count": 154,
   "metadata": {},
   "outputs": [
    {
     "name": "stdout",
     "output_type": "stream",
     "text": [
      "Epoch 0: train loss 0.693332\n",
      "Epoch 100: train loss 0.495657\n",
      "Epoch 200: train loss 0.455550\n",
      "Epoch 300: train loss 0.430837\n",
      "Epoch 400: train loss 0.398537\n",
      "Epoch 500: train loss 0.361953\n",
      "Epoch 600: train loss 0.326608\n",
      "Epoch 700: train loss 0.294181\n",
      "Epoch 800: train loss 0.265242\n",
      "Epoch 900: train loss 0.240079\n",
      "Validation loss 0.497778\n"
     ]
    }
   ],
   "source": [
    "#train the network with the best hyperparameters (1 mins - 1.5 min)\n",
    "loss = network.train(X_train, y_train, X_val, y_val, epochs, learning_rate, L2_alpha, True)"
   ]
  },
  {
   "cell_type": "markdown",
   "metadata": {},
   "source": [
    "### Exploiting the classifier"
   ]
  },
  {
   "cell_type": "markdown",
   "metadata": {},
   "source": [
    "#### Test of the pairwise order predictions on the test set"
   ]
  },
  {
   "cell_type": "code",
   "execution_count": 155,
   "metadata": {},
   "outputs": [
    {
     "name": "stdout",
     "output_type": "stream",
     "text": [
      "Number of values 5346\n",
      "Test BCE loss 0.511618\n",
      "Test accuracy 0.778339\n",
      "Test F1 0.774071\n",
      "Test AUC 0.778339\n"
     ]
    }
   ],
   "source": [
    "#test on the GPU\n",
    "y_pred = network(X_test.float().cuda())\n",
    "#BCE loss\n",
    "loss = network.loss_fn()(y_pred, y_test.float().cuda())\n",
    "#remove elements are diagonal elements\n",
    "indices = [i for i,v in enumerate(y_test) if v==0.5]\n",
    "y_pred_hole = torch.tensor([value for index, value in enumerate(y_pred) if not index in indices])\n",
    "y_test_hole = torch.tensor([value for index, value in enumerate(y_test) if not index in indices])\n",
    "#convert to numpy arrays and round predictions\n",
    "y_test_array, y_pred_array = y_test_hole.cpu().detach().numpy(), y_pred_hole.cpu().detach().numpy().round()\n",
    "#accuracy\n",
    "accuracy = accuracy_score(y_test_array, y_pred_array)\n",
    "#F1 score\n",
    "F1 = f1_score(y_test_array, y_pred_array)\n",
    "#AUC score\n",
    "AUC = roc_auc_score(y_test_array, y_pred_array)\n",
    "\n",
    "print(\"Number of values %d\" % y_test_array.shape[0])\n",
    "print(\"Test BCE loss %f\" % loss.item())\n",
    "print(\"Test accuracy %f\" % accuracy)\n",
    "print(\"Test F1 %f\" % F1.item())\n",
    "print(\"Test AUC %f\" % AUC.item())"
   ]
  },
  {
   "cell_type": "markdown",
   "metadata": {},
   "source": [
    "#### Test of the pairwise ordering predictions for a new book"
   ]
  },
  {
   "cell_type": "code",
   "execution_count": 156,
   "metadata": {},
   "outputs": [],
   "source": [
    "#embed a new book (2.5 sec)\n",
    "new_embedding = [model.encode(all_sentences[nb_books])]"
   ]
  },
  {
   "cell_type": "code",
   "execution_count": 157,
   "metadata": {},
   "outputs": [],
   "source": [
    "#predict the pairwise page order in the new book using the network (2 secs)\n",
    "reduced_embedding = dp.split_sentences(new_embedding, 1, 1)[0]\n",
    "X2, y2 = dp.create_database(reduced_embedding)\n",
    "y2_pred = network(X2.float().cuda())"
   ]
  },
  {
   "cell_type": "code",
   "execution_count": 158,
   "metadata": {},
   "outputs": [
    {
     "name": "stdout",
     "output_type": "stream",
     "text": [
      "Number of values 23562\n",
      "Test BCE loss 0.609089\n",
      "Test accuracy 0.732238\n",
      "Test F1 0.715798\n",
      "Test AUC 0.732238\n"
     ]
    }
   ],
   "source": [
    "#BCE loss\n",
    "loss = network.loss_fn()(y2_pred, y2.float().cuda())\n",
    "#remove elements are diagonal elements\n",
    "indices = [i for i,v in enumerate(y2) if v==0.5]\n",
    "y2_pred_hole = torch.tensor([value for index, value in enumerate(y2_pred) if not index in indices])\n",
    "y2_hole = torch.tensor([value for index, value in enumerate(y2) if not index in indices])\n",
    "#convert to numpy arrays and round predictions\n",
    "y2_array, y2_pred_array = y2_hole.cpu().detach().numpy(), y2_pred_hole.cpu().detach().numpy().round()\n",
    "#accuracy\n",
    "accuracy = accuracy_score(y2_array, y2_pred_array)\n",
    "#F1 score\n",
    "F1 = f1_score(y2_array, y2_pred_array)\n",
    "#AUC score\n",
    "AUC = roc_auc_score(y2_array, y2_pred_array)\n",
    "\n",
    "print(\"Number of values %d\" % y2_array.shape[0])\n",
    "print(\"Test BCE loss %f\" % loss.item())\n",
    "print(\"Test accuracy %f\" % accuracy)\n",
    "print(\"Test F1 %f\" % F1.item())\n",
    "print(\"Test AUC %f\" % AUC.item())"
   ]
  },
  {
   "cell_type": "markdown",
   "metadata": {},
   "source": [
    "#### Test of the transitive predictions for the new book"
   ]
  },
  {
   "cell_type": "code",
   "execution_count": 159,
   "metadata": {},
   "outputs": [
    {
     "name": "stdout",
     "output_type": "stream",
     "text": [
      "True\n"
     ]
    }
   ],
   "source": [
    "#convert the predictions to a pairwise probability matrix\n",
    "pairwise_probabilities = dp.flattened_to_matrix(y2_pred)\n",
    "#convert to a shifted antisymmetric matrix by averaging the predictions of the upper and lower triangular\n",
    "averaged_probabilities = dp.average_matrix(pairwise_probabilities)\n",
    "#test if the shifted matrix is asymmetric\n",
    "print(np.sum(averaged_probabilities-0.5 + np.transpose(averaged_probabilities-0.5))==0)"
   ]
  },
  {
   "cell_type": "code",
   "execution_count": 160,
   "metadata": {},
   "outputs": [],
   "source": [
    "#compute the min weight transitivity closure of the pairwise order graph using Floyd-Warshall\n",
    "min_closure = algos.order_from_pairwise(pairwise_probabilities)"
   ]
  },
  {
   "cell_type": "code",
   "execution_count": 161,
   "metadata": {},
   "outputs": [
    {
     "name": "stdout",
     "output_type": "stream",
     "text": [
      "Number of values 23562\n",
      "Test accuracy 0.687251\n",
      "Test F1 0.680318\n",
      "Test AUC 0.687251\n"
     ]
    }
   ],
   "source": [
    "#convert directed edges to a list 0 and 1\n",
    "transitive_pred = dp.edges_to_pred(min_closure)\n",
    "#accuracy\n",
    "accuracy = accuracy_score(y2_array, transitive_pred)\n",
    "#F1 score\n",
    "F1 = f1_score(y2_array, transitive_pred)\n",
    "#AUC score\n",
    "AUC = roc_auc_score(y2_array, transitive_pred)\n",
    "\n",
    "print(\"Number of values %d\" % transitive_pred.shape[0])\n",
    "print(\"Test accuracy %f\" % accuracy)\n",
    "print(\"Test F1 %f\" % F1.item())\n",
    "print(\"Test AUC %f\" % AUC.item())"
   ]
  },
  {
   "cell_type": "code",
   "execution_count": 162,
   "metadata": {},
   "outputs": [],
   "source": [
    "#compute obtimal order the topological sort algorithm\n",
    "pred_order = algos.topological_sort(min_closure)"
   ]
  },
  {
   "cell_type": "code",
   "execution_count": 163,
   "metadata": {},
   "outputs": [
    {
     "name": "stdout",
     "output_type": "stream",
     "text": [
      "Kendall tau: 0.378321\n",
      "Perfect Match Ratio: 0.025974\n"
     ]
    }
   ],
   "source": [
    "#compare with the actual order of pages\n",
    "ground_truth_order = list(range(len(new_embedding[0])))\n",
    "print(\"Kendall tau: %f\" % distances.kendall_tau(pred_order, ground_truth_order))\n",
    "print(\"Perfect Match Ratio: %f\" % distances.PMR(pred_order, ground_truth_order))"
   ]
  },
  {
   "cell_type": "markdown",
   "metadata": {},
   "source": [
    "#### Test of the transitive closure method on synthetic predictions"
   ]
  },
  {
   "cell_type": "code",
   "execution_count": 164,
   "metadata": {},
   "outputs": [],
   "source": [
    "def order_from_synthetic(x_precision, y_precision, y2):\n",
    "    tau = []\n",
    "    PMR = []\n",
    "    #error proability\n",
    "    errors = [x_precision*i for i in range(int(1/x_precision))]\n",
    "    for error in errors:\n",
    "        Ltau = []\n",
    "        LPMR = []\n",
    "        for i in range(int(1/y_precision)):\n",
    "            #create random noise with probability error\n",
    "            noise = np.random.choice([0, 1], size=y2.shape, p=[1-error, error])\n",
    "            #add this noise to the ground truth to make a synthetic prediction\n",
    "            synthetic_pred = np.where(noise==0, y2, 1-y2)\n",
    "            #compute order from the synthetic prediction using the transitive closure method\n",
    "            pairwise_probabilities = dp.flattened_to_matrix(torch.tensor(synthetic_pred))\n",
    "            min_closure = algos.order_from_pairwise(pairwise_probabilities)\n",
    "            pred_order = algos.topological_sort(min_closure)\n",
    "            Ltau.append(distances.kendall_tau(pred_order, ground_truth_order))\n",
    "            LPMR.append(distances.PMR(pred_order, ground_truth_order))\n",
    "        tau.append(np.mean(Ltau))\n",
    "        PMR.append(np.mean(LPMR))\n",
    "    return(errors, tau, PMR)"
   ]
  },
  {
   "cell_type": "code",
   "execution_count": 165,
   "metadata": {},
   "outputs": [
    {
     "name": "stderr",
     "output_type": "stream",
     "text": [
      "c:\\Users\\victo\\Documents\\Scolaire\\EPFL 2022-2024\\Semester 3\\Jawbone\\src\\algos.py:135: RuntimeWarning: divide by zero encountered in scalar divide\n",
      "  val = abs(np.log(pairwise_probs[i][j]/(1-pairwise_probs[i][j])))\n",
      "c:\\Users\\victo\\Documents\\Scolaire\\EPFL 2022-2024\\Semester 3\\Jawbone\\src\\algos.py:135: RuntimeWarning: divide by zero encountered in log\n",
      "  val = abs(np.log(pairwise_probs[i][j]/(1-pairwise_probs[i][j])))\n"
     ]
    },
    {
     "data": {
      "text/plain": [
       "<matplotlib.legend.Legend at 0x16491addfa0>"
      ]
     },
     "execution_count": 165,
     "metadata": {},
     "output_type": "execute_result"
    },
    {
     "data": {
      "image/png": "[encoded data removed]",
      "text/plain": [
       "<Figure size 432x288 with 1 Axes>"
      ]
     },
     "metadata": {
      "needs_background": "light"
     },
     "output_type": "display_data"
    }
   ],
   "source": [
    "#plot the results with legend\n",
    "errors, tau, PMR = order_from_synthetic(0.01, 0.1, y2.cpu().detach())\n",
    "plt.plot(errors, tau, label=\"Kendall tau\")\n",
    "plt.plot(errors, PMR, label=\"Perfect Match Ratio\")\n",
    "plt.xlabel(\"error probability\")\n",
    "plt.legend()"
   ]
  },
  {
   "cell_type": "markdown",
   "metadata": {},
   "source": [
    "# Set Transformer:\n",
    "### Heuristics \n",
    "Full transformer network that takes in pages and outputs an order, the architecture for this set-to-sequence model comes from [Set Transformer](https://arxiv.org/abs/1810.00825).\n",
    "\n",
    "DRAWING"
   ]
  },
  {
   "cell_type": "code",
   "execution_count": null,
   "metadata": {},
   "outputs": [],
   "source": []
  }
 ],
 "metadata": {
  "kernelspec": {
   "display_name": "myenv",
   "language": "python",
   "name": "myenv"
  },
  "language_info": {
   "codemirror_mode": {
    "name": "ipython",
    "version": 3
   },
   "file_extension": ".py",
   "mimetype": "text/x-python",
   "name": "python",
   "nbconvert_exporter": "python",
   "pygments_lexer": "ipython3",
   "version": "3.9.7"
  },
  "orig_nbformat": 4
 },
 "nbformat": 4,
 "nbformat_minor": 2
}
